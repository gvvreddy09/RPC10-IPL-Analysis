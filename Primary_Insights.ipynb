{
 "cells": [
  {
   "cell_type": "markdown",
   "id": "936502d7-ddbb-4d83-bf8a-8d755f1abb5b",
   "metadata": {},
   "source": [
    "**Importing Python Libraries**"
   ]
  },
  {
   "cell_type": "code",
   "execution_count": 1,
   "id": "21b132ce-a055-4eee-b5bc-5efeb3e76e66",
   "metadata": {},
   "outputs": [],
   "source": [
    "import pandas as pd\n",
    "import numpy as np\n",
    "from tabulate import tabulate"
   ]
  },
  {
   "cell_type": "markdown",
   "id": "d53f30ca-7891-473f-b5a0-4ab9fd0eedbb",
   "metadata": {},
   "source": [
    "**Function formats Data Frame into a Table**"
   ]
  },
  {
   "cell_type": "code",
   "execution_count": 2,
   "id": "54b1fa0c-99df-4b87-8680-711318f0ad70",
   "metadata": {},
   "outputs": [],
   "source": [
    "def format_dataframes(df):\n",
    "    table = tabulate(df, headers='keys', tablefmt='grid')\n",
    "    return table"
   ]
  },
  {
   "cell_type": "markdown",
   "id": "cc18a5f2-b2e4-49ba-a8f0-b4077ffe943e",
   "metadata": {},
   "source": [
    "**Importing Data**"
   ]
  },
  {
   "cell_type": "code",
   "execution_count": 3,
   "id": "89f6e2cc-1b1d-4d51-a9f3-56d68511b8ab",
   "metadata": {},
   "outputs": [],
   "source": [
    "df_players = pd.read_csv('datasets\\dim_players.csv')\n",
    "df_dim_match_summary = pd.read_csv('datasets/dim_match_summary.csv')\n",
    "df_fact_batting_summary  = pd.read_csv('datasets/fact_bating_summary.csv')\n",
    "df_fact_bowling_summary = pd.read_csv(\"datasets/fact_bowling_summary.csv\")"
   ]
  },
  {
   "cell_type": "markdown",
   "id": "a82c12df-e79a-4a48-9603-1ceb6610fc5f",
   "metadata": {
    "jp-MarkdownHeadingCollapsed": true
   },
   "source": [
    "#### EDA"
   ]
  },
  {
   "cell_type": "code",
   "execution_count": 4,
   "id": "6184a57e-8490-4729-81dc-ae996218d724",
   "metadata": {},
   "outputs": [
    {
     "data": {
      "text/plain": [
       "(292, 5)"
      ]
     },
     "execution_count": 4,
     "metadata": {},
     "output_type": "execute_result"
    }
   ],
   "source": [
    "df_players.shape"
   ]
  },
  {
   "cell_type": "code",
   "execution_count": 5,
   "id": "d2ed357c-19f4-405f-9f00-9f2c7fdb5d4a",
   "metadata": {},
   "outputs": [
    {
     "data": {
      "text/plain": [
       "name            object\n",
       "team            object\n",
       "battingStyle    object\n",
       "bowlingStyle    object\n",
       "playingRole     object\n",
       "dtype: object"
      ]
     },
     "execution_count": 5,
     "metadata": {},
     "output_type": "execute_result"
    }
   ],
   "source": [
    "df_players.dtypes"
   ]
  },
  {
   "cell_type": "code",
   "execution_count": 6,
   "id": "c83cb9dd-6578-4579-8d39-e8b602107d3d",
   "metadata": {},
   "outputs": [
    {
     "data": {
      "text/html": [
       "<div>\n",
       "<style scoped>\n",
       "    .dataframe tbody tr th:only-of-type {\n",
       "        vertical-align: middle;\n",
       "    }\n",
       "\n",
       "    .dataframe tbody tr th {\n",
       "        vertical-align: top;\n",
       "    }\n",
       "\n",
       "    .dataframe thead th {\n",
       "        text-align: right;\n",
       "    }\n",
       "</style>\n",
       "<table border=\"1\" class=\"dataframe\">\n",
       "  <thead>\n",
       "    <tr style=\"text-align: right;\">\n",
       "      <th></th>\n",
       "      <th>name</th>\n",
       "      <th>team</th>\n",
       "      <th>battingStyle</th>\n",
       "      <th>bowlingStyle</th>\n",
       "      <th>playingRole</th>\n",
       "    </tr>\n",
       "  </thead>\n",
       "  <tbody>\n",
       "    <tr>\n",
       "      <th>count</th>\n",
       "      <td>292</td>\n",
       "      <td>292</td>\n",
       "      <td>292</td>\n",
       "      <td>292</td>\n",
       "      <td>292</td>\n",
       "    </tr>\n",
       "    <tr>\n",
       "      <th>unique</th>\n",
       "      <td>292</td>\n",
       "      <td>10</td>\n",
       "      <td>2</td>\n",
       "      <td>19</td>\n",
       "      <td>9</td>\n",
       "    </tr>\n",
       "    <tr>\n",
       "      <th>top</th>\n",
       "      <td>RuturajGaikwad</td>\n",
       "      <td>Mumbai</td>\n",
       "      <td>Right hand Bat</td>\n",
       "      <td>Right arm Offbreak</td>\n",
       "      <td>Bowler</td>\n",
       "    </tr>\n",
       "    <tr>\n",
       "      <th>freq</th>\n",
       "      <td>1</td>\n",
       "      <td>39</td>\n",
       "      <td>210</td>\n",
       "      <td>52</td>\n",
       "      <td>117</td>\n",
       "    </tr>\n",
       "  </tbody>\n",
       "</table>\n",
       "</div>"
      ],
      "text/plain": [
       "                  name    team    battingStyle        bowlingStyle playingRole\n",
       "count              292     292             292                 292         292\n",
       "unique             292      10               2                  19           9\n",
       "top     RuturajGaikwad  Mumbai  Right hand Bat  Right arm Offbreak      Bowler\n",
       "freq                 1      39             210                  52         117"
      ]
     },
     "execution_count": 6,
     "metadata": {},
     "output_type": "execute_result"
    }
   ],
   "source": [
    "df_players.describe()"
   ]
  },
  {
   "cell_type": "code",
   "execution_count": 7,
   "id": "be35c2f5-3d11-4f97-9d88-c245b7ab2feb",
   "metadata": {},
   "outputs": [
    {
     "data": {
      "text/plain": [
       "name            0\n",
       "team            0\n",
       "battingStyle    0\n",
       "bowlingStyle    0\n",
       "playingRole     0\n",
       "dtype: int64"
      ]
     },
     "execution_count": 7,
     "metadata": {},
     "output_type": "execute_result"
    }
   ],
   "source": [
    "df_players.isnull().sum()"
   ]
  },
  {
   "cell_type": "code",
   "execution_count": 8,
   "id": "345748fa-3388-4f23-b1ac-aea4fec70841",
   "metadata": {},
   "outputs": [
    {
     "data": {
      "text/html": [
       "<div>\n",
       "<style scoped>\n",
       "    .dataframe tbody tr th:only-of-type {\n",
       "        vertical-align: middle;\n",
       "    }\n",
       "\n",
       "    .dataframe tbody tr th {\n",
       "        vertical-align: top;\n",
       "    }\n",
       "\n",
       "    .dataframe thead th {\n",
       "        text-align: right;\n",
       "    }\n",
       "</style>\n",
       "<table border=\"1\" class=\"dataframe\">\n",
       "  <thead>\n",
       "    <tr style=\"text-align: right;\">\n",
       "      <th></th>\n",
       "      <th>name</th>\n",
       "      <th>team</th>\n",
       "      <th>battingStyle</th>\n",
       "      <th>bowlingStyle</th>\n",
       "      <th>playingRole</th>\n",
       "    </tr>\n",
       "  </thead>\n",
       "  <tbody>\n",
       "    <tr>\n",
       "      <th>0</th>\n",
       "      <td>RuturajGaikwad</td>\n",
       "      <td>Super Kings</td>\n",
       "      <td>Right hand Bat</td>\n",
       "      <td>Right arm Offbreak</td>\n",
       "      <td>Batter</td>\n",
       "    </tr>\n",
       "    <tr>\n",
       "      <th>1</th>\n",
       "      <td>FafduPlessis</td>\n",
       "      <td>Super Kings</td>\n",
       "      <td>Right hand Bat</td>\n",
       "      <td>Legbreak</td>\n",
       "      <td>Middle order Batter</td>\n",
       "    </tr>\n",
       "    <tr>\n",
       "      <th>2</th>\n",
       "      <td>RobinUthappa</td>\n",
       "      <td>Super Kings</td>\n",
       "      <td>Right hand Bat</td>\n",
       "      <td>Right arm Medium</td>\n",
       "      <td>Batter</td>\n",
       "    </tr>\n",
       "    <tr>\n",
       "      <th>3</th>\n",
       "      <td>MoeenAli</td>\n",
       "      <td>Super Kings</td>\n",
       "      <td>Left hand Bat</td>\n",
       "      <td>Right arm Offbreak</td>\n",
       "      <td>Batting Allrounder</td>\n",
       "    </tr>\n",
       "    <tr>\n",
       "      <th>4</th>\n",
       "      <td>ShubmanGill</td>\n",
       "      <td>KKR</td>\n",
       "      <td>Right hand Bat</td>\n",
       "      <td>Right arm Offbreak</td>\n",
       "      <td>Opening Batter</td>\n",
       "    </tr>\n",
       "  </tbody>\n",
       "</table>\n",
       "</div>"
      ],
      "text/plain": [
       "             name         team    battingStyle        bowlingStyle  \\\n",
       "0  RuturajGaikwad  Super Kings  Right hand Bat  Right arm Offbreak   \n",
       "1    FafduPlessis  Super Kings  Right hand Bat            Legbreak   \n",
       "2    RobinUthappa  Super Kings  Right hand Bat    Right arm Medium   \n",
       "3        MoeenAli  Super Kings   Left hand Bat  Right arm Offbreak   \n",
       "4     ShubmanGill          KKR  Right hand Bat  Right arm Offbreak   \n",
       "\n",
       "           playingRole  \n",
       "0               Batter  \n",
       "1  Middle order Batter  \n",
       "2               Batter  \n",
       "3   Batting Allrounder  \n",
       "4       Opening Batter  "
      ]
     },
     "execution_count": 8,
     "metadata": {},
     "output_type": "execute_result"
    }
   ],
   "source": [
    "df_players.head()"
   ]
  },
  {
   "cell_type": "code",
   "execution_count": 9,
   "id": "ba8b7ae8-b9fa-44ff-be7e-bbe7376331a3",
   "metadata": {},
   "outputs": [
    {
     "data": {
      "text/plain": [
       "(206, 6)"
      ]
     },
     "execution_count": 9,
     "metadata": {},
     "output_type": "execute_result"
    }
   ],
   "source": [
    "df_dim_match_summary.shape"
   ]
  },
  {
   "cell_type": "code",
   "execution_count": 10,
   "id": "690aef9d-1695-4587-ab9d-88a728934c13",
   "metadata": {},
   "outputs": [
    {
     "data": {
      "text/plain": [
       "team1        object\n",
       "team2        object\n",
       "winner       object\n",
       "margin       object\n",
       "matchDate    object\n",
       "match_id     object\n",
       "dtype: object"
      ]
     },
     "execution_count": 10,
     "metadata": {},
     "output_type": "execute_result"
    }
   ],
   "source": [
    "df_dim_match_summary.dtypes"
   ]
  },
  {
   "cell_type": "code",
   "execution_count": 11,
   "id": "51d00db7-9e33-4f93-bdb8-ba2ac7fadbee",
   "metadata": {},
   "outputs": [
    {
     "data": {
      "text/html": [
       "<div>\n",
       "<style scoped>\n",
       "    .dataframe tbody tr th:only-of-type {\n",
       "        vertical-align: middle;\n",
       "    }\n",
       "\n",
       "    .dataframe tbody tr th {\n",
       "        vertical-align: top;\n",
       "    }\n",
       "\n",
       "    .dataframe thead th {\n",
       "        text-align: right;\n",
       "    }\n",
       "</style>\n",
       "<table border=\"1\" class=\"dataframe\">\n",
       "  <thead>\n",
       "    <tr style=\"text-align: right;\">\n",
       "      <th></th>\n",
       "      <th>team1</th>\n",
       "      <th>team2</th>\n",
       "      <th>winner</th>\n",
       "      <th>margin</th>\n",
       "      <th>matchDate</th>\n",
       "      <th>match_id</th>\n",
       "    </tr>\n",
       "  </thead>\n",
       "  <tbody>\n",
       "    <tr>\n",
       "      <th>count</th>\n",
       "      <td>206</td>\n",
       "      <td>206</td>\n",
       "      <td>206</td>\n",
       "      <td>206</td>\n",
       "      <td>206</td>\n",
       "      <td>206</td>\n",
       "    </tr>\n",
       "    <tr>\n",
       "      <th>unique</th>\n",
       "      <td>10</td>\n",
       "      <td>10</td>\n",
       "      <td>10</td>\n",
       "      <td>62</td>\n",
       "      <td>166</td>\n",
       "      <td>206</td>\n",
       "    </tr>\n",
       "    <tr>\n",
       "      <th>top</th>\n",
       "      <td>Super Kings</td>\n",
       "      <td>KKR</td>\n",
       "      <td>Super Kings</td>\n",
       "      <td>6 wickets</td>\n",
       "      <td>Apr 10, 2022</td>\n",
       "      <td>T203817</td>\n",
       "    </tr>\n",
       "    <tr>\n",
       "      <th>freq</th>\n",
       "      <td>29</td>\n",
       "      <td>27</td>\n",
       "      <td>25</td>\n",
       "      <td>25</td>\n",
       "      <td>2</td>\n",
       "      <td>1</td>\n",
       "    </tr>\n",
       "  </tbody>\n",
       "</table>\n",
       "</div>"
      ],
      "text/plain": [
       "              team1 team2       winner     margin     matchDate match_id\n",
       "count           206   206          206        206           206      206\n",
       "unique           10    10           10         62           166      206\n",
       "top     Super Kings   KKR  Super Kings  6 wickets  Apr 10, 2022  T203817\n",
       "freq             29    27           25         25             2        1"
      ]
     },
     "execution_count": 11,
     "metadata": {},
     "output_type": "execute_result"
    }
   ],
   "source": [
    "df_dim_match_summary.describe()"
   ]
  },
  {
   "cell_type": "code",
   "execution_count": 12,
   "id": "6a98f9ee-ca8b-464f-838f-52fda6b160bc",
   "metadata": {},
   "outputs": [
    {
     "data": {
      "text/plain": [
       "team1        0\n",
       "team2        0\n",
       "winner       0\n",
       "margin       0\n",
       "matchDate    0\n",
       "match_id     0\n",
       "dtype: int64"
      ]
     },
     "execution_count": 12,
     "metadata": {},
     "output_type": "execute_result"
    }
   ],
   "source": [
    "df_dim_match_summary.isnull().sum()"
   ]
  },
  {
   "cell_type": "code",
   "execution_count": 13,
   "id": "fde8949d-f94d-405e-b993-9c3d1357e9a9",
   "metadata": {},
   "outputs": [
    {
     "data": {
      "text/html": [
       "<div>\n",
       "<style scoped>\n",
       "    .dataframe tbody tr th:only-of-type {\n",
       "        vertical-align: middle;\n",
       "    }\n",
       "\n",
       "    .dataframe tbody tr th {\n",
       "        vertical-align: top;\n",
       "    }\n",
       "\n",
       "    .dataframe thead th {\n",
       "        text-align: right;\n",
       "    }\n",
       "</style>\n",
       "<table border=\"1\" class=\"dataframe\">\n",
       "  <thead>\n",
       "    <tr style=\"text-align: right;\">\n",
       "      <th></th>\n",
       "      <th>team1</th>\n",
       "      <th>team2</th>\n",
       "      <th>winner</th>\n",
       "      <th>margin</th>\n",
       "      <th>matchDate</th>\n",
       "      <th>match_id</th>\n",
       "    </tr>\n",
       "  </thead>\n",
       "  <tbody>\n",
       "    <tr>\n",
       "      <th>0</th>\n",
       "      <td>Super Kings</td>\n",
       "      <td>KKR</td>\n",
       "      <td>Super Kings</td>\n",
       "      <td>27 runs</td>\n",
       "      <td>Oct 15, 2021</td>\n",
       "      <td>T203817</td>\n",
       "    </tr>\n",
       "    <tr>\n",
       "      <th>1</th>\n",
       "      <td>Capitals</td>\n",
       "      <td>KKR</td>\n",
       "      <td>KKR</td>\n",
       "      <td>3 wickets</td>\n",
       "      <td>Oct 13, 2021</td>\n",
       "      <td>T206442</td>\n",
       "    </tr>\n",
       "    <tr>\n",
       "      <th>2</th>\n",
       "      <td>RCB</td>\n",
       "      <td>KKR</td>\n",
       "      <td>KKR</td>\n",
       "      <td>4 wickets</td>\n",
       "      <td>Oct 11, 2021</td>\n",
       "      <td>T208597</td>\n",
       "    </tr>\n",
       "    <tr>\n",
       "      <th>3</th>\n",
       "      <td>Capitals</td>\n",
       "      <td>Super Kings</td>\n",
       "      <td>Super Kings</td>\n",
       "      <td>4 wickets</td>\n",
       "      <td>Oct 10, 2021</td>\n",
       "      <td>T201819</td>\n",
       "    </tr>\n",
       "    <tr>\n",
       "      <th>4</th>\n",
       "      <td>Capitals</td>\n",
       "      <td>RCB</td>\n",
       "      <td>RCB</td>\n",
       "      <td>7 wickets</td>\n",
       "      <td>Oct 8, 2021</td>\n",
       "      <td>T205942</td>\n",
       "    </tr>\n",
       "  </tbody>\n",
       "</table>\n",
       "</div>"
      ],
      "text/plain": [
       "         team1        team2       winner     margin     matchDate match_id\n",
       "0  Super Kings          KKR  Super Kings    27 runs  Oct 15, 2021  T203817\n",
       "1     Capitals          KKR          KKR  3 wickets  Oct 13, 2021  T206442\n",
       "2          RCB          KKR          KKR  4 wickets  Oct 11, 2021  T208597\n",
       "3     Capitals  Super Kings  Super Kings  4 wickets  Oct 10, 2021  T201819\n",
       "4     Capitals          RCB          RCB  7 wickets   Oct 8, 2021  T205942"
      ]
     },
     "execution_count": 13,
     "metadata": {},
     "output_type": "execute_result"
    }
   ],
   "source": [
    "df_dim_match_summary.head()"
   ]
  },
  {
   "cell_type": "code",
   "execution_count": 14,
   "id": "31fe5916-db96-4dbc-b946-e02ad8a017da",
   "metadata": {},
   "outputs": [
    {
     "data": {
      "text/plain": [
       "(3268, 11)"
      ]
     },
     "execution_count": 14,
     "metadata": {},
     "output_type": "execute_result"
    }
   ],
   "source": [
    "df_fact_batting_summary.shape"
   ]
  },
  {
   "cell_type": "code",
   "execution_count": 15,
   "id": "51e1456c-ecbf-4d2e-80d6-ba4ba6ec9d34",
   "metadata": {},
   "outputs": [
    {
     "data": {
      "text/plain": [
       "match_id       object\n",
       "match          object\n",
       "teamInnings    object\n",
       "battingPos      int64\n",
       "batsmanName    object\n",
       "out/not_out    object\n",
       "runs            int64\n",
       "balls           int64\n",
       "4s              int64\n",
       "6s              int64\n",
       "SR             object\n",
       "dtype: object"
      ]
     },
     "execution_count": 15,
     "metadata": {},
     "output_type": "execute_result"
    }
   ],
   "source": [
    "df_fact_batting_summary.dtypes"
   ]
  },
  {
   "cell_type": "code",
   "execution_count": 16,
   "id": "9144c577-7c1d-44bc-8299-89500ffb20c8",
   "metadata": {},
   "outputs": [
    {
     "data": {
      "text/html": [
       "<div>\n",
       "<style scoped>\n",
       "    .dataframe tbody tr th:only-of-type {\n",
       "        vertical-align: middle;\n",
       "    }\n",
       "\n",
       "    .dataframe tbody tr th {\n",
       "        vertical-align: top;\n",
       "    }\n",
       "\n",
       "    .dataframe thead th {\n",
       "        text-align: right;\n",
       "    }\n",
       "</style>\n",
       "<table border=\"1\" class=\"dataframe\">\n",
       "  <thead>\n",
       "    <tr style=\"text-align: right;\">\n",
       "      <th></th>\n",
       "      <th>battingPos</th>\n",
       "      <th>runs</th>\n",
       "      <th>balls</th>\n",
       "      <th>4s</th>\n",
       "      <th>6s</th>\n",
       "    </tr>\n",
       "  </thead>\n",
       "  <tbody>\n",
       "    <tr>\n",
       "      <th>count</th>\n",
       "      <td>3268.000000</td>\n",
       "      <td>3268.000000</td>\n",
       "      <td>3268.000000</td>\n",
       "      <td>3268.000000</td>\n",
       "      <td>3268.000000</td>\n",
       "    </tr>\n",
       "    <tr>\n",
       "      <th>mean</th>\n",
       "      <td>4.772032</td>\n",
       "      <td>19.820073</td>\n",
       "      <td>14.700734</td>\n",
       "      <td>1.744798</td>\n",
       "      <td>0.875459</td>\n",
       "    </tr>\n",
       "    <tr>\n",
       "      <th>std</th>\n",
       "      <td>2.714852</td>\n",
       "      <td>21.885699</td>\n",
       "      <td>13.516978</td>\n",
       "      <td>2.329142</td>\n",
       "      <td>1.426316</td>\n",
       "    </tr>\n",
       "    <tr>\n",
       "      <th>min</th>\n",
       "      <td>1.000000</td>\n",
       "      <td>0.000000</td>\n",
       "      <td>0.000000</td>\n",
       "      <td>0.000000</td>\n",
       "      <td>0.000000</td>\n",
       "    </tr>\n",
       "    <tr>\n",
       "      <th>25%</th>\n",
       "      <td>2.000000</td>\n",
       "      <td>3.000000</td>\n",
       "      <td>4.000000</td>\n",
       "      <td>0.000000</td>\n",
       "      <td>0.000000</td>\n",
       "    </tr>\n",
       "    <tr>\n",
       "      <th>50%</th>\n",
       "      <td>4.000000</td>\n",
       "      <td>12.000000</td>\n",
       "      <td>10.000000</td>\n",
       "      <td>1.000000</td>\n",
       "      <td>0.000000</td>\n",
       "    </tr>\n",
       "    <tr>\n",
       "      <th>75%</th>\n",
       "      <td>7.000000</td>\n",
       "      <td>29.000000</td>\n",
       "      <td>21.000000</td>\n",
       "      <td>3.000000</td>\n",
       "      <td>1.000000</td>\n",
       "    </tr>\n",
       "    <tr>\n",
       "      <th>max</th>\n",
       "      <td>11.000000</td>\n",
       "      <td>140.000000</td>\n",
       "      <td>70.000000</td>\n",
       "      <td>16.000000</td>\n",
       "      <td>10.000000</td>\n",
       "    </tr>\n",
       "  </tbody>\n",
       "</table>\n",
       "</div>"
      ],
      "text/plain": [
       "        battingPos         runs        balls           4s           6s\n",
       "count  3268.000000  3268.000000  3268.000000  3268.000000  3268.000000\n",
       "mean      4.772032    19.820073    14.700734     1.744798     0.875459\n",
       "std       2.714852    21.885699    13.516978     2.329142     1.426316\n",
       "min       1.000000     0.000000     0.000000     0.000000     0.000000\n",
       "25%       2.000000     3.000000     4.000000     0.000000     0.000000\n",
       "50%       4.000000    12.000000    10.000000     1.000000     0.000000\n",
       "75%       7.000000    29.000000    21.000000     3.000000     1.000000\n",
       "max      11.000000   140.000000    70.000000    16.000000    10.000000"
      ]
     },
     "execution_count": 16,
     "metadata": {},
     "output_type": "execute_result"
    }
   ],
   "source": [
    "df_fact_batting_summary.describe()"
   ]
  },
  {
   "cell_type": "code",
   "execution_count": 17,
   "id": "490360d4-2322-4c29-b3db-b10acf5c4159",
   "metadata": {},
   "outputs": [
    {
     "data": {
      "text/plain": [
       "match_id       0\n",
       "match          0\n",
       "teamInnings    0\n",
       "battingPos     0\n",
       "batsmanName    0\n",
       "out/not_out    0\n",
       "runs           0\n",
       "balls          0\n",
       "4s             0\n",
       "6s             0\n",
       "SR             0\n",
       "dtype: int64"
      ]
     },
     "execution_count": 17,
     "metadata": {},
     "output_type": "execute_result"
    }
   ],
   "source": [
    "df_fact_batting_summary.isnull().sum()"
   ]
  },
  {
   "cell_type": "code",
   "execution_count": 18,
   "id": "ea672c55-dda7-44bc-8fb0-509e9fd59dcb",
   "metadata": {},
   "outputs": [
    {
     "data": {
      "text/html": [
       "<div>\n",
       "<style scoped>\n",
       "    .dataframe tbody tr th:only-of-type {\n",
       "        vertical-align: middle;\n",
       "    }\n",
       "\n",
       "    .dataframe tbody tr th {\n",
       "        vertical-align: top;\n",
       "    }\n",
       "\n",
       "    .dataframe thead th {\n",
       "        text-align: right;\n",
       "    }\n",
       "</style>\n",
       "<table border=\"1\" class=\"dataframe\">\n",
       "  <thead>\n",
       "    <tr style=\"text-align: right;\">\n",
       "      <th></th>\n",
       "      <th>match_id</th>\n",
       "      <th>match</th>\n",
       "      <th>teamInnings</th>\n",
       "      <th>battingPos</th>\n",
       "      <th>batsmanName</th>\n",
       "      <th>out/not_out</th>\n",
       "      <th>runs</th>\n",
       "      <th>balls</th>\n",
       "      <th>4s</th>\n",
       "      <th>6s</th>\n",
       "      <th>SR</th>\n",
       "    </tr>\n",
       "  </thead>\n",
       "  <tbody>\n",
       "    <tr>\n",
       "      <th>0</th>\n",
       "      <td>T203817</td>\n",
       "      <td>Super Kings Vs KKR</td>\n",
       "      <td>Super Kings</td>\n",
       "      <td>1</td>\n",
       "      <td>RuturajGaikwad</td>\n",
       "      <td>out</td>\n",
       "      <td>32</td>\n",
       "      <td>27</td>\n",
       "      <td>3</td>\n",
       "      <td>1</td>\n",
       "      <td>118.51</td>\n",
       "    </tr>\n",
       "    <tr>\n",
       "      <th>1</th>\n",
       "      <td>T203817</td>\n",
       "      <td>Super Kings Vs KKR</td>\n",
       "      <td>Super Kings</td>\n",
       "      <td>2</td>\n",
       "      <td>FafduPlessis</td>\n",
       "      <td>out</td>\n",
       "      <td>86</td>\n",
       "      <td>59</td>\n",
       "      <td>7</td>\n",
       "      <td>3</td>\n",
       "      <td>145.76</td>\n",
       "    </tr>\n",
       "    <tr>\n",
       "      <th>2</th>\n",
       "      <td>T203817</td>\n",
       "      <td>Super Kings Vs KKR</td>\n",
       "      <td>Super Kings</td>\n",
       "      <td>3</td>\n",
       "      <td>RobinUthappa</td>\n",
       "      <td>out</td>\n",
       "      <td>31</td>\n",
       "      <td>15</td>\n",
       "      <td>0</td>\n",
       "      <td>3</td>\n",
       "      <td>206.66</td>\n",
       "    </tr>\n",
       "    <tr>\n",
       "      <th>3</th>\n",
       "      <td>T203817</td>\n",
       "      <td>Super Kings Vs KKR</td>\n",
       "      <td>Super Kings</td>\n",
       "      <td>4</td>\n",
       "      <td>MoeenAli</td>\n",
       "      <td>not_out</td>\n",
       "      <td>37</td>\n",
       "      <td>20</td>\n",
       "      <td>2</td>\n",
       "      <td>3</td>\n",
       "      <td>185.00</td>\n",
       "    </tr>\n",
       "    <tr>\n",
       "      <th>4</th>\n",
       "      <td>T203817</td>\n",
       "      <td>Super Kings Vs KKR</td>\n",
       "      <td>KKR</td>\n",
       "      <td>1</td>\n",
       "      <td>ShubmanGill</td>\n",
       "      <td>out</td>\n",
       "      <td>51</td>\n",
       "      <td>43</td>\n",
       "      <td>6</td>\n",
       "      <td>0</td>\n",
       "      <td>118.60</td>\n",
       "    </tr>\n",
       "  </tbody>\n",
       "</table>\n",
       "</div>"
      ],
      "text/plain": [
       "  match_id               match  teamInnings  battingPos     batsmanName  \\\n",
       "0  T203817  Super Kings Vs KKR  Super Kings           1  RuturajGaikwad   \n",
       "1  T203817  Super Kings Vs KKR  Super Kings           2    FafduPlessis   \n",
       "2  T203817  Super Kings Vs KKR  Super Kings           3    RobinUthappa   \n",
       "3  T203817  Super Kings Vs KKR  Super Kings           4        MoeenAli   \n",
       "4  T203817  Super Kings Vs KKR          KKR           1     ShubmanGill   \n",
       "\n",
       "  out/not_out  runs  balls  4s  6s      SR  \n",
       "0         out    32     27   3   1  118.51  \n",
       "1         out    86     59   7   3  145.76  \n",
       "2         out    31     15   0   3  206.66  \n",
       "3     not_out    37     20   2   3  185.00  \n",
       "4         out    51     43   6   0  118.60  "
      ]
     },
     "execution_count": 18,
     "metadata": {},
     "output_type": "execute_result"
    }
   ],
   "source": [
    "df_fact_batting_summary.head()"
   ]
  },
  {
   "cell_type": "code",
   "execution_count": 19,
   "id": "57cc0e88-18ba-468a-b5aa-4ead84cb31d5",
   "metadata": {},
   "outputs": [
    {
     "data": {
      "text/plain": [
       "(2436, 14)"
      ]
     },
     "execution_count": 19,
     "metadata": {},
     "output_type": "execute_result"
    }
   ],
   "source": [
    "df_fact_bowling_summary.shape"
   ]
  },
  {
   "cell_type": "code",
   "execution_count": 20,
   "id": "e8cc7f12-71eb-444c-8cbc-52984218a02b",
   "metadata": {},
   "outputs": [
    {
     "data": {
      "text/plain": [
       "match_id        object\n",
       "match           object\n",
       "bowlingTeam     object\n",
       "bowlerName      object\n",
       "overs          float64\n",
       "maiden           int64\n",
       "runs             int64\n",
       "wickets          int64\n",
       "economy        float64\n",
       "0s               int64\n",
       "4s               int64\n",
       "6s               int64\n",
       "wides            int64\n",
       "noBalls          int64\n",
       "dtype: object"
      ]
     },
     "execution_count": 20,
     "metadata": {},
     "output_type": "execute_result"
    }
   ],
   "source": [
    "df_fact_bowling_summary.dtypes"
   ]
  },
  {
   "cell_type": "code",
   "execution_count": 21,
   "id": "5abf195e-c8a1-4838-9347-acac598e95df",
   "metadata": {},
   "outputs": [
    {
     "data": {
      "text/html": [
       "<div>\n",
       "<style scoped>\n",
       "    .dataframe tbody tr th:only-of-type {\n",
       "        vertical-align: middle;\n",
       "    }\n",
       "\n",
       "    .dataframe tbody tr th {\n",
       "        vertical-align: top;\n",
       "    }\n",
       "\n",
       "    .dataframe thead th {\n",
       "        text-align: right;\n",
       "    }\n",
       "</style>\n",
       "<table border=\"1\" class=\"dataframe\">\n",
       "  <thead>\n",
       "    <tr style=\"text-align: right;\">\n",
       "      <th></th>\n",
       "      <th>overs</th>\n",
       "      <th>maiden</th>\n",
       "      <th>runs</th>\n",
       "      <th>wickets</th>\n",
       "      <th>economy</th>\n",
       "      <th>0s</th>\n",
       "      <th>4s</th>\n",
       "      <th>6s</th>\n",
       "      <th>wides</th>\n",
       "      <th>noBalls</th>\n",
       "    </tr>\n",
       "  </thead>\n",
       "  <tbody>\n",
       "    <tr>\n",
       "      <th>count</th>\n",
       "      <td>2436.000000</td>\n",
       "      <td>2436.000000</td>\n",
       "      <td>2436.000000</td>\n",
       "      <td>2436.000000</td>\n",
       "      <td>2436.000000</td>\n",
       "      <td>2436.000000</td>\n",
       "      <td>2436.000000</td>\n",
       "      <td>2436.000000</td>\n",
       "      <td>2436.000000</td>\n",
       "      <td>2436.000000</td>\n",
       "    </tr>\n",
       "    <tr>\n",
       "      <th>mean</th>\n",
       "      <td>3.259401</td>\n",
       "      <td>0.024631</td>\n",
       "      <td>27.556650</td>\n",
       "      <td>0.968801</td>\n",
       "      <td>8.750899</td>\n",
       "      <td>7.318144</td>\n",
       "      <td>2.340722</td>\n",
       "      <td>1.174466</td>\n",
       "      <td>0.730706</td>\n",
       "      <td>0.101396</td>\n",
       "    </tr>\n",
       "    <tr>\n",
       "      <th>std</th>\n",
       "      <td>1.017162</td>\n",
       "      <td>0.157655</td>\n",
       "      <td>11.204963</td>\n",
       "      <td>1.050985</td>\n",
       "      <td>3.318778</td>\n",
       "      <td>3.764987</td>\n",
       "      <td>1.678368</td>\n",
       "      <td>1.168873</td>\n",
       "      <td>1.035974</td>\n",
       "      <td>0.345077</td>\n",
       "    </tr>\n",
       "    <tr>\n",
       "      <th>min</th>\n",
       "      <td>0.100000</td>\n",
       "      <td>0.000000</td>\n",
       "      <td>0.000000</td>\n",
       "      <td>0.000000</td>\n",
       "      <td>0.000000</td>\n",
       "      <td>0.000000</td>\n",
       "      <td>0.000000</td>\n",
       "      <td>0.000000</td>\n",
       "      <td>0.000000</td>\n",
       "      <td>0.000000</td>\n",
       "    </tr>\n",
       "    <tr>\n",
       "      <th>25%</th>\n",
       "      <td>3.000000</td>\n",
       "      <td>0.000000</td>\n",
       "      <td>20.000000</td>\n",
       "      <td>0.000000</td>\n",
       "      <td>6.500000</td>\n",
       "      <td>4.000000</td>\n",
       "      <td>1.000000</td>\n",
       "      <td>0.000000</td>\n",
       "      <td>0.000000</td>\n",
       "      <td>0.000000</td>\n",
       "    </tr>\n",
       "    <tr>\n",
       "      <th>50%</th>\n",
       "      <td>4.000000</td>\n",
       "      <td>0.000000</td>\n",
       "      <td>27.000000</td>\n",
       "      <td>1.000000</td>\n",
       "      <td>8.250000</td>\n",
       "      <td>7.000000</td>\n",
       "      <td>2.000000</td>\n",
       "      <td>1.000000</td>\n",
       "      <td>0.000000</td>\n",
       "      <td>0.000000</td>\n",
       "    </tr>\n",
       "    <tr>\n",
       "      <th>75%</th>\n",
       "      <td>4.000000</td>\n",
       "      <td>0.000000</td>\n",
       "      <td>35.000000</td>\n",
       "      <td>2.000000</td>\n",
       "      <td>10.500000</td>\n",
       "      <td>10.000000</td>\n",
       "      <td>3.000000</td>\n",
       "      <td>2.000000</td>\n",
       "      <td>1.000000</td>\n",
       "      <td>0.000000</td>\n",
       "    </tr>\n",
       "    <tr>\n",
       "      <th>max</th>\n",
       "      <td>4.000000</td>\n",
       "      <td>2.000000</td>\n",
       "      <td>69.000000</td>\n",
       "      <td>5.000000</td>\n",
       "      <td>36.000000</td>\n",
       "      <td>19.000000</td>\n",
       "      <td>11.000000</td>\n",
       "      <td>8.000000</td>\n",
       "      <td>7.000000</td>\n",
       "      <td>3.000000</td>\n",
       "    </tr>\n",
       "  </tbody>\n",
       "</table>\n",
       "</div>"
      ],
      "text/plain": [
       "             overs       maiden         runs      wickets      economy  \\\n",
       "count  2436.000000  2436.000000  2436.000000  2436.000000  2436.000000   \n",
       "mean      3.259401     0.024631    27.556650     0.968801     8.750899   \n",
       "std       1.017162     0.157655    11.204963     1.050985     3.318778   \n",
       "min       0.100000     0.000000     0.000000     0.000000     0.000000   \n",
       "25%       3.000000     0.000000    20.000000     0.000000     6.500000   \n",
       "50%       4.000000     0.000000    27.000000     1.000000     8.250000   \n",
       "75%       4.000000     0.000000    35.000000     2.000000    10.500000   \n",
       "max       4.000000     2.000000    69.000000     5.000000    36.000000   \n",
       "\n",
       "                0s           4s           6s        wides      noBalls  \n",
       "count  2436.000000  2436.000000  2436.000000  2436.000000  2436.000000  \n",
       "mean      7.318144     2.340722     1.174466     0.730706     0.101396  \n",
       "std       3.764987     1.678368     1.168873     1.035974     0.345077  \n",
       "min       0.000000     0.000000     0.000000     0.000000     0.000000  \n",
       "25%       4.000000     1.000000     0.000000     0.000000     0.000000  \n",
       "50%       7.000000     2.000000     1.000000     0.000000     0.000000  \n",
       "75%      10.000000     3.000000     2.000000     1.000000     0.000000  \n",
       "max      19.000000    11.000000     8.000000     7.000000     3.000000  "
      ]
     },
     "execution_count": 21,
     "metadata": {},
     "output_type": "execute_result"
    }
   ],
   "source": [
    "df_fact_bowling_summary.describe()"
   ]
  },
  {
   "cell_type": "code",
   "execution_count": 22,
   "id": "3716ae3a-539a-46a5-974e-bbde41b3e3cf",
   "metadata": {},
   "outputs": [
    {
     "data": {
      "text/plain": [
       "match_id       0\n",
       "match          0\n",
       "bowlingTeam    0\n",
       "bowlerName     0\n",
       "overs          0\n",
       "maiden         0\n",
       "runs           0\n",
       "wickets        0\n",
       "economy        0\n",
       "0s             0\n",
       "4s             0\n",
       "6s             0\n",
       "wides          0\n",
       "noBalls        0\n",
       "dtype: int64"
      ]
     },
     "execution_count": 22,
     "metadata": {},
     "output_type": "execute_result"
    }
   ],
   "source": [
    "df_fact_bowling_summary.isnull().sum()"
   ]
  },
  {
   "cell_type": "code",
   "execution_count": 23,
   "id": "8c89d6aa-9186-4ee8-80da-f16c7c296e74",
   "metadata": {},
   "outputs": [
    {
     "data": {
      "text/html": [
       "<div>\n",
       "<style scoped>\n",
       "    .dataframe tbody tr th:only-of-type {\n",
       "        vertical-align: middle;\n",
       "    }\n",
       "\n",
       "    .dataframe tbody tr th {\n",
       "        vertical-align: top;\n",
       "    }\n",
       "\n",
       "    .dataframe thead th {\n",
       "        text-align: right;\n",
       "    }\n",
       "</style>\n",
       "<table border=\"1\" class=\"dataframe\">\n",
       "  <thead>\n",
       "    <tr style=\"text-align: right;\">\n",
       "      <th></th>\n",
       "      <th>match_id</th>\n",
       "      <th>match</th>\n",
       "      <th>bowlingTeam</th>\n",
       "      <th>bowlerName</th>\n",
       "      <th>overs</th>\n",
       "      <th>maiden</th>\n",
       "      <th>runs</th>\n",
       "      <th>wickets</th>\n",
       "      <th>economy</th>\n",
       "      <th>0s</th>\n",
       "      <th>4s</th>\n",
       "      <th>6s</th>\n",
       "      <th>wides</th>\n",
       "      <th>noBalls</th>\n",
       "    </tr>\n",
       "  </thead>\n",
       "  <tbody>\n",
       "    <tr>\n",
       "      <th>0</th>\n",
       "      <td>T203817</td>\n",
       "      <td>Super Kings Vs KKR</td>\n",
       "      <td>KKR</td>\n",
       "      <td>ShakibAlHasan</td>\n",
       "      <td>3.0</td>\n",
       "      <td>0</td>\n",
       "      <td>33</td>\n",
       "      <td>0</td>\n",
       "      <td>11.0</td>\n",
       "      <td>6</td>\n",
       "      <td>2</td>\n",
       "      <td>3</td>\n",
       "      <td>0</td>\n",
       "      <td>0</td>\n",
       "    </tr>\n",
       "    <tr>\n",
       "      <th>1</th>\n",
       "      <td>T203817</td>\n",
       "      <td>Super Kings Vs KKR</td>\n",
       "      <td>KKR</td>\n",
       "      <td>ShivamMavi</td>\n",
       "      <td>4.0</td>\n",
       "      <td>0</td>\n",
       "      <td>32</td>\n",
       "      <td>1</td>\n",
       "      <td>8.0</td>\n",
       "      <td>8</td>\n",
       "      <td>1</td>\n",
       "      <td>2</td>\n",
       "      <td>0</td>\n",
       "      <td>0</td>\n",
       "    </tr>\n",
       "    <tr>\n",
       "      <th>2</th>\n",
       "      <td>T203817</td>\n",
       "      <td>Super Kings Vs KKR</td>\n",
       "      <td>KKR</td>\n",
       "      <td>LockieFerguson</td>\n",
       "      <td>4.0</td>\n",
       "      <td>0</td>\n",
       "      <td>56</td>\n",
       "      <td>0</td>\n",
       "      <td>14.0</td>\n",
       "      <td>4</td>\n",
       "      <td>7</td>\n",
       "      <td>2</td>\n",
       "      <td>2</td>\n",
       "      <td>0</td>\n",
       "    </tr>\n",
       "    <tr>\n",
       "      <th>3</th>\n",
       "      <td>T203817</td>\n",
       "      <td>Super Kings Vs KKR</td>\n",
       "      <td>KKR</td>\n",
       "      <td>VarunChakravarthy</td>\n",
       "      <td>4.0</td>\n",
       "      <td>0</td>\n",
       "      <td>38</td>\n",
       "      <td>0</td>\n",
       "      <td>9.5</td>\n",
       "      <td>5</td>\n",
       "      <td>2</td>\n",
       "      <td>2</td>\n",
       "      <td>0</td>\n",
       "      <td>1</td>\n",
       "    </tr>\n",
       "    <tr>\n",
       "      <th>4</th>\n",
       "      <td>T203817</td>\n",
       "      <td>Super Kings Vs KKR</td>\n",
       "      <td>KKR</td>\n",
       "      <td>SunilNarine</td>\n",
       "      <td>4.0</td>\n",
       "      <td>0</td>\n",
       "      <td>26</td>\n",
       "      <td>2</td>\n",
       "      <td>6.5</td>\n",
       "      <td>6</td>\n",
       "      <td>0</td>\n",
       "      <td>1</td>\n",
       "      <td>1</td>\n",
       "      <td>0</td>\n",
       "    </tr>\n",
       "  </tbody>\n",
       "</table>\n",
       "</div>"
      ],
      "text/plain": [
       "  match_id               match bowlingTeam         bowlerName  overs  maiden  \\\n",
       "0  T203817  Super Kings Vs KKR         KKR      ShakibAlHasan    3.0       0   \n",
       "1  T203817  Super Kings Vs KKR         KKR         ShivamMavi    4.0       0   \n",
       "2  T203817  Super Kings Vs KKR         KKR     LockieFerguson    4.0       0   \n",
       "3  T203817  Super Kings Vs KKR         KKR  VarunChakravarthy    4.0       0   \n",
       "4  T203817  Super Kings Vs KKR         KKR        SunilNarine    4.0       0   \n",
       "\n",
       "   runs  wickets  economy  0s  4s  6s  wides  noBalls  \n",
       "0    33        0     11.0   6   2   3      0        0  \n",
       "1    32        1      8.0   8   1   2      0        0  \n",
       "2    56        0     14.0   4   7   2      2        0  \n",
       "3    38        0      9.5   5   2   2      0        1  \n",
       "4    26        2      6.5   6   0   1      1        0  "
      ]
     },
     "execution_count": 23,
     "metadata": {},
     "output_type": "execute_result"
    }
   ],
   "source": [
    "df_fact_bowling_summary.head()"
   ]
  },
  {
   "cell_type": "markdown",
   "id": "0a037fb6-ca4a-4fca-88e9-5da993b969c1",
   "metadata": {
    "jp-MarkdownHeadingCollapsed": true
   },
   "source": [
    "#### Data Cleaning"
   ]
  },
  {
   "cell_type": "markdown",
   "id": "a3be461d-36f5-4a63-8514-0e8296a430ee",
   "metadata": {},
   "source": [
    "In dim_match_summary\n",
    "- Replacing matchDate 'May 28-29, 2023' with 'May 29, 2023' for the match_id = 'T208201'"
   ]
  },
  {
   "cell_type": "code",
   "execution_count": 24,
   "id": "6143bbab-718d-4dd9-bcf1-fa16d7dc2247",
   "metadata": {},
   "outputs": [],
   "source": [
    "df_dim_match_summary['matchDate'] = df_dim_match_summary['matchDate'].replace('May 28-29, 2023', 'May 29, 2023')"
   ]
  },
  {
   "cell_type": "code",
   "execution_count": 25,
   "id": "83eeb012-93a1-4869-8a59-b10d68429d72",
   "metadata": {},
   "outputs": [
    {
     "data": {
      "text/html": [
       "<div>\n",
       "<style scoped>\n",
       "    .dataframe tbody tr th:only-of-type {\n",
       "        vertical-align: middle;\n",
       "    }\n",
       "\n",
       "    .dataframe tbody tr th {\n",
       "        vertical-align: top;\n",
       "    }\n",
       "\n",
       "    .dataframe thead th {\n",
       "        text-align: right;\n",
       "    }\n",
       "</style>\n",
       "<table border=\"1\" class=\"dataframe\">\n",
       "  <thead>\n",
       "    <tr style=\"text-align: right;\">\n",
       "      <th></th>\n",
       "      <th>team1</th>\n",
       "      <th>team2</th>\n",
       "      <th>winner</th>\n",
       "      <th>margin</th>\n",
       "      <th>matchDate</th>\n",
       "      <th>match_id</th>\n",
       "    </tr>\n",
       "  </thead>\n",
       "  <tbody>\n",
       "    <tr>\n",
       "      <th>133</th>\n",
       "      <td>Titans</td>\n",
       "      <td>Super Kings</td>\n",
       "      <td>Super Kings</td>\n",
       "      <td>5 wickets</td>\n",
       "      <td>May 29, 2023</td>\n",
       "      <td>T208201</td>\n",
       "    </tr>\n",
       "  </tbody>\n",
       "</table>\n",
       "</div>"
      ],
      "text/plain": [
       "      team1        team2       winner     margin     matchDate match_id\n",
       "133  Titans  Super Kings  Super Kings  5 wickets  May 29, 2023  T208201"
      ]
     },
     "execution_count": 25,
     "metadata": {},
     "output_type": "execute_result"
    }
   ],
   "source": [
    "df_dim_match_summary[df_dim_match_summary['match_id']==\"T208201\"]"
   ]
  },
  {
   "cell_type": "markdown",
   "id": "2f68d6aa-db0b-4325-a283-cf3e744896d2",
   "metadata": {
    "jp-MarkdownHeadingCollapsed": true
   },
   "source": [
    "#### Data Transformation"
   ]
  },
  {
   "cell_type": "markdown",
   "id": "502cd68f-4fb8-4cd5-ab61-f6a0305f9613",
   "metadata": {
    "jp-MarkdownHeadingCollapsed": true
   },
   "source": [
    "#### Functions"
   ]
  },
  {
   "cell_type": "markdown",
   "id": "3f7ad723-30cd-4c01-9283-187c60abcbf8",
   "metadata": {},
   "source": [
    "Function to add a space between the player's first name and last name for better readability."
   ]
  },
  {
   "cell_type": "code",
   "execution_count": 26,
   "id": "2c135ccd-7550-47e2-9f0e-6263c493f277",
   "metadata": {},
   "outputs": [],
   "source": [
    "def add_space(name):\n",
    "    for i in range(len(name) - 1):\n",
    "        if name[i].islower() and name[i + 1].isupper():\n",
    "            return name[:i + 1] + ' ' + name[i + 1:]\n",
    "    return name"
   ]
  },
  {
   "cell_type": "markdown",
   "id": "8f822cb7-08e1-452c-ba78-c00930ecc322",
   "metadata": {},
   "source": [
    "Function to convert overs to balls."
   ]
  },
  {
   "cell_type": "code",
   "execution_count": 27,
   "id": "4738df71-19ef-4ce6-85e9-89aacccdeaae",
   "metadata": {},
   "outputs": [],
   "source": [
    "import math\n",
    "def overs_to_balls(overs):\n",
    "    integer_part = int(overs)\n",
    "    decimal_part = round((overs - integer_part),1)\n",
    "    return ((integer_part*6)+(int(decimal_part*10)))"
   ]
  },
  {
   "cell_type": "markdown",
   "id": "a0336072-a6f3-4185-a2ae-c5e473fc1a6b",
   "metadata": {
    "jp-MarkdownHeadingCollapsed": true
   },
   "source": [
    "#### Fact Batting Summary"
   ]
  },
  {
   "cell_type": "code",
   "execution_count": 28,
   "id": "f7b5727b-c910-4693-91eb-0b288cf6c0af",
   "metadata": {},
   "outputs": [],
   "source": [
    "df_fact_batting_summary['batsmanName'] = df_fact_batting_summary['batsmanName'].apply(add_space)"
   ]
  },
  {
   "cell_type": "markdown",
   "id": "3ecd7c62-9f40-4188-a739-a707733258b2",
   "metadata": {},
   "source": [
    "In fact_batting_summary\n",
    "- Renaming 'out/not_out' to 'out'\n",
    "- Replacing 'out' with 1 and 'not_out' with 0"
   ]
  },
  {
   "cell_type": "code",
   "execution_count": 29,
   "id": "f4482945-1569-4eef-be6a-5d27e792e052",
   "metadata": {},
   "outputs": [],
   "source": [
    "df_fact_batting_summary = df_fact_batting_summary.rename(columns={'out/not_out': 'out'})\n",
    "\n",
    "df_fact_batting_summary['out'] = df_fact_batting_summary['out'].replace({'out': 1, 'not_out': 0})"
   ]
  },
  {
   "cell_type": "markdown",
   "id": "6bf14eb5-20d1-4338-a9ea-8a8313574b60",
   "metadata": {},
   "source": [
    "In fact_batting_summary\n",
    "- Calculating boundary runs and adding it as new column"
   ]
  },
  {
   "cell_type": "code",
   "execution_count": 30,
   "id": "94a8c3cc-c80b-4c2b-a347-c1ea7ae0bb8d",
   "metadata": {},
   "outputs": [],
   "source": [
    "df_fact_batting_summary[\"boundary_runs\"] = df_fact_batting_summary['4s']*4 + df_fact_batting_summary['6s']*6"
   ]
  },
  {
   "cell_type": "markdown",
   "id": "aed682aa-913f-4715-b606-71db67e677b8",
   "metadata": {
    "jp-MarkdownHeadingCollapsed": true
   },
   "source": [
    "#### Bowling Summary"
   ]
  },
  {
   "cell_type": "code",
   "execution_count": 31,
   "id": "c78dc3bf-769e-4259-81a2-62eb6fdc3949",
   "metadata": {},
   "outputs": [],
   "source": [
    "df_fact_bowling_summary['bowlerName'] = df_fact_bowling_summary['bowlerName'].apply(add_space)"
   ]
  },
  {
   "cell_type": "markdown",
   "id": "121d966b-03d4-42b4-801c-5ec7f46f83c5",
   "metadata": {},
   "source": [
    "In fact_bowling_summary\n",
    "- Calculating number of balls from the overs and adding it as new column "
   ]
  },
  {
   "cell_type": "code",
   "execution_count": 32,
   "id": "d31b79b4-ebd1-4e86-9051-fb420fe037ac",
   "metadata": {},
   "outputs": [],
   "source": [
    "df_fact_bowling_summary['balls'] = df_fact_bowling_summary['overs'].apply(overs_to_balls)"
   ]
  },
  {
   "cell_type": "markdown",
   "id": "7421ebcc-1d00-48e8-b1ef-4cd25595454b",
   "metadata": {
    "jp-MarkdownHeadingCollapsed": true
   },
   "source": [
    "#### Match Summary"
   ]
  },
  {
   "cell_type": "markdown",
   "id": "81730f15-a31c-41be-a1e8-d0f5d5ead7ca",
   "metadata": {},
   "source": [
    "In dim_match_summary\n",
    "- Converting the 'matchDate' column object type to datetime format\n",
    "- Extracting the year from matchDate and adding it as a new column"
   ]
  },
  {
   "cell_type": "code",
   "execution_count": 33,
   "id": "f74308f0-cf9d-4fa1-a5cb-825635cbf07c",
   "metadata": {},
   "outputs": [
    {
     "data": {
      "text/plain": [
       "team1                object\n",
       "team2                object\n",
       "winner               object\n",
       "margin               object\n",
       "matchDate    datetime64[ns]\n",
       "match_id             object\n",
       "dtype: object"
      ]
     },
     "execution_count": 33,
     "metadata": {},
     "output_type": "execute_result"
    }
   ],
   "source": [
    "df_dim_match_summary['matchDate'] = pd.to_datetime(df_dim_match_summary['matchDate'])\n",
    "df_dim_match_summary.dtypes"
   ]
  },
  {
   "cell_type": "code",
   "execution_count": 34,
   "id": "1f23520b-8e3a-4bc0-9743-1e05550363f7",
   "metadata": {},
   "outputs": [],
   "source": [
    "df_dim_match_summary['Year'] = df_dim_match_summary['matchDate'].dt.year"
   ]
  },
  {
   "cell_type": "markdown",
   "id": "c627d28a-e023-439d-a04c-edfee7a97d2b",
   "metadata": {
    "jp-MarkdownHeadingCollapsed": true
   },
   "source": [
    "#### Variables"
   ]
  },
  {
   "cell_type": "markdown",
   "id": "81b5fb11-0e5d-40ee-9b5c-4bd0359199cb",
   "metadata": {},
   "source": [
    "From dim_match_summary, Extracting unique years from and coverting it into a list."
   ]
  },
  {
   "cell_type": "code",
   "execution_count": 35,
   "id": "8a5fd1e6-c370-4a8c-a49f-1f3d4f175c2c",
   "metadata": {},
   "outputs": [
    {
     "data": {
      "text/plain": [
       "[2021, 2022, 2023]"
      ]
     },
     "execution_count": 35,
     "metadata": {},
     "output_type": "execute_result"
    }
   ],
   "source": [
    "years = list(df_dim_match_summary.Year.unique())\n",
    "years"
   ]
  },
  {
   "cell_type": "markdown",
   "id": "ffa03edf-bb0e-4e48-ac53-f5d64088b539",
   "metadata": {
    "jp-MarkdownHeadingCollapsed": true
   },
   "source": [
    "#### **Batting_Summary**. Minimum 60 balls faced in each season."
   ]
  },
  {
   "cell_type": "markdown",
   "id": "3cbe61c1-8b8a-4fe4-9d25-93455d4a189a",
   "metadata": {},
   "source": [
    "Logic\n",
    "- Merge dim_match_summary with fact_batting_summary on match_id. Fetch required columns.\n",
    "- Groupby Name and Year (grouping all matches by name and year).\n",
    "- Including only rows where balls_faced greater than or equal to 60 in every year.\n",
    "- Groupby Name (grouping 3 years data and finding number of unique years played by batsman).\n",
    "- Including only rows where batsman played in all unique years (i.e. 3 in this case)."
   ]
  },
  {
   "cell_type": "code",
   "execution_count": 36,
   "id": "06065e3c-60c7-483d-85e5-f3c313a60008",
   "metadata": {},
   "outputs": [],
   "source": [
    "merged_df = pd.merge(df_dim_match_summary, df_fact_batting_summary, on=\"match_id\", how=\"inner\")\n",
    "required_columns = merged_df[[\"batsmanName\", \"Year\", \"runs\", \"boundary_runs\", \"out\", \"balls\"]]\n",
    "\n",
    "grouped_df = required_columns.groupby(['batsmanName', 'Year'], as_index=False).agg({'runs': 'sum', \"boundary_runs\": 'sum', 'out': 'sum', 'balls':'sum'})\n",
    "\n",
    "min_balls_60 = grouped_df[grouped_df[\"balls\"]>=60][[\"batsmanName\", \"Year\", \"runs\", \"boundary_runs\", \"out\", \"balls\"]]\n",
    "\n",
    "unique_seasons = min_balls_60.groupby('batsmanName').agg({'Year': 'nunique', 'runs': 'sum', \"boundary_runs\":'sum', 'out': 'sum', 'balls':'sum'})\n",
    "\n",
    "all_seasons = unique_seasons[unique_seasons[\"Year\"]==len(years)][[\"runs\", \"boundary_runs\", \"out\", \"balls\"]]"
   ]
  },
  {
   "cell_type": "markdown",
   "id": "68c95b53-bb00-4283-833d-94be09ccb737",
   "metadata": {
    "jp-MarkdownHeadingCollapsed": true
   },
   "source": [
    "#### **Bowling_Summary**. Minimum 60 balls bowled in each season."
   ]
  },
  {
   "cell_type": "markdown",
   "id": "df90a3ab-df9a-4c88-afb2-ebf16985d071",
   "metadata": {},
   "source": [
    "Logic\n",
    "- Merge dim_match_summary with fact_batting_summary on match_id. Fetch required columns.\n",
    "- Groupby Name and Year (grouping all matches by name and year).\n",
    "- Including only rows where balls_bowled greater than or equal to 60 in every year.\n",
    "- Groupby Name (grouping 3 years data and finding number of unique years played by bowler).\n",
    "- Including only rows where bowler played in all unique years (i.e. 3 in this case)."
   ]
  },
  {
   "cell_type": "code",
   "execution_count": 37,
   "id": "043623f0-840f-46fc-b713-0936f728ad99",
   "metadata": {},
   "outputs": [],
   "source": [
    "merged_df = pd.merge(df_dim_match_summary, df_fact_bowling_summary, on=\"match_id\", how=\"inner\")\n",
    "required_columns = merged_df[[\"bowlerName\", \"Year\", \"0s\", \"runs\", \"wickets\", \"balls\"]]\n",
    "\n",
    "grouped_df = required_columns.groupby(['bowlerName', 'Year'], as_index=False).agg({\"0s\":'sum', 'runs': 'sum', 'wickets': 'sum', 'balls':'sum'})\n",
    "\n",
    "min_60_balls_bowled = grouped_df[grouped_df[\"balls\"]>=60][[\"bowlerName\", \"Year\", \"0s\", \"runs\", \"wickets\", \"balls\"]]\n",
    "\n",
    "bowler_unique_seasons = min_60_balls_bowled.groupby('bowlerName').agg({'Year': 'nunique', \"0s\": 'sum', 'runs': 'sum', 'wickets': 'sum', 'balls':'sum'})\n",
    "\n",
    "bowler_all_seasons = bowler_unique_seasons[bowler_unique_seasons[\"Year\"]==len(years)][[\"runs\", \"0s\", \"wickets\", \"balls\"]]"
   ]
  },
  {
   "cell_type": "markdown",
   "id": "d4cb6316-ff45-412c-837b-b3b3b7e97a24",
   "metadata": {
    "jp-MarkdownHeadingCollapsed": true
   },
   "source": [
    "#### Calculating fact_match_summary."
   ]
  },
  {
   "cell_type": "markdown",
   "id": "7c6480d1-78ef-46bc-b305-b1da4094345c",
   "metadata": {},
   "source": [
    "- Getting unique teams from the columns team1 and team2 of dim_match_summary.\n",
    "- Converting the array 'teams' to a DataFrame.\n",
    "- Creating a DataFrame 'df_home_team' by merging df_teams and dim_match_summary on the columns df_teams['teams'] = dim_match_summary['team1'].\n",
    "- Creating a DataFrame 'df_away_team' by merging df_teams and dim_match_summary on the columns df_teams['teams'] = dim_match_summary['team2'].\n",
    "- Creating a DataFrame 'fact_match_summary' by appending df_home_team and df_away_team."
   ]
  },
  {
   "cell_type": "code",
   "execution_count": 38,
   "id": "2dd6a2b3-3c14-4214-b3f4-a8b8e2b22520",
   "metadata": {},
   "outputs": [],
   "source": [
    "teams = pd.concat([df_dim_match_summary['team1'], df_dim_match_summary['team2']]).unique()\n",
    "\n",
    "df_teams = pd.DataFrame({'teams': teams})"
   ]
  },
  {
   "cell_type": "code",
   "execution_count": 39,
   "id": "fe413ec1-ce87-4ce5-845b-89451cc98a32",
   "metadata": {},
   "outputs": [],
   "source": [
    "df_home_team = pd.merge(df_teams, df_dim_match_summary, left_on=\"teams\", right_on=\"team1\", how=\"inner\")\n",
    "\n",
    "df_away_team = pd.merge(df_teams, df_dim_match_summary, left_on=\"teams\", right_on=\"team2\", how=\"inner\")\n",
    "\n",
    "df_fact_match_summary = pd.concat([df_home_team, df_away_team], axis=0)"
   ]
  },
  {
   "cell_type": "code",
   "execution_count": 40,
   "id": "3a35f602-d81a-4ef9-b192-1e46e7cd936a",
   "metadata": {},
   "outputs": [
    {
     "data": {
      "text/html": [
       "<div>\n",
       "<style scoped>\n",
       "    .dataframe tbody tr th:only-of-type {\n",
       "        vertical-align: middle;\n",
       "    }\n",
       "\n",
       "    .dataframe tbody tr th {\n",
       "        vertical-align: top;\n",
       "    }\n",
       "\n",
       "    .dataframe thead th {\n",
       "        text-align: right;\n",
       "    }\n",
       "</style>\n",
       "<table border=\"1\" class=\"dataframe\">\n",
       "  <thead>\n",
       "    <tr style=\"text-align: right;\">\n",
       "      <th></th>\n",
       "      <th>teams</th>\n",
       "      <th>team1</th>\n",
       "      <th>team2</th>\n",
       "      <th>winner</th>\n",
       "      <th>margin</th>\n",
       "      <th>matchDate</th>\n",
       "      <th>match_id</th>\n",
       "      <th>Year</th>\n",
       "    </tr>\n",
       "  </thead>\n",
       "  <tbody>\n",
       "    <tr>\n",
       "      <th>0</th>\n",
       "      <td>Super Kings</td>\n",
       "      <td>Super Kings</td>\n",
       "      <td>KKR</td>\n",
       "      <td>Super Kings</td>\n",
       "      <td>27 runs</td>\n",
       "      <td>2021-10-15</td>\n",
       "      <td>T203817</td>\n",
       "      <td>2021</td>\n",
       "    </tr>\n",
       "    <tr>\n",
       "      <th>1</th>\n",
       "      <td>Super Kings</td>\n",
       "      <td>Super Kings</td>\n",
       "      <td>Punjab Kings</td>\n",
       "      <td>Punjab Kings</td>\n",
       "      <td>6 wickets</td>\n",
       "      <td>2021-10-07</td>\n",
       "      <td>T201866</td>\n",
       "      <td>2021</td>\n",
       "    </tr>\n",
       "    <tr>\n",
       "      <th>2</th>\n",
       "      <td>Super Kings</td>\n",
       "      <td>Super Kings</td>\n",
       "      <td>Capitals</td>\n",
       "      <td>Capitals</td>\n",
       "      <td>3 wickets</td>\n",
       "      <td>2021-10-04</td>\n",
       "      <td>T207682</td>\n",
       "      <td>2021</td>\n",
       "    </tr>\n",
       "    <tr>\n",
       "      <th>3</th>\n",
       "      <td>Super Kings</td>\n",
       "      <td>Super Kings</td>\n",
       "      <td>Royals</td>\n",
       "      <td>Royals</td>\n",
       "      <td>7 wickets</td>\n",
       "      <td>2021-10-02</td>\n",
       "      <td>T205672</td>\n",
       "      <td>2021</td>\n",
       "    </tr>\n",
       "    <tr>\n",
       "      <th>4</th>\n",
       "      <td>Super Kings</td>\n",
       "      <td>Super Kings</td>\n",
       "      <td>Mumbai</td>\n",
       "      <td>Super Kings</td>\n",
       "      <td>20 runs</td>\n",
       "      <td>2021-09-19</td>\n",
       "      <td>T201256</td>\n",
       "      <td>2021</td>\n",
       "    </tr>\n",
       "  </tbody>\n",
       "</table>\n",
       "</div>"
      ],
      "text/plain": [
       "         teams        team1         team2        winner     margin  matchDate  \\\n",
       "0  Super Kings  Super Kings           KKR   Super Kings    27 runs 2021-10-15   \n",
       "1  Super Kings  Super Kings  Punjab Kings  Punjab Kings  6 wickets 2021-10-07   \n",
       "2  Super Kings  Super Kings      Capitals      Capitals  3 wickets 2021-10-04   \n",
       "3  Super Kings  Super Kings        Royals        Royals  7 wickets 2021-10-02   \n",
       "4  Super Kings  Super Kings        Mumbai   Super Kings    20 runs 2021-09-19   \n",
       "\n",
       "  match_id  Year  \n",
       "0  T203817  2021  \n",
       "1  T201866  2021  \n",
       "2  T207682  2021  \n",
       "3  T205672  2021  \n",
       "4  T201256  2021  "
      ]
     },
     "execution_count": 40,
     "metadata": {},
     "output_type": "execute_result"
    }
   ],
   "source": [
    "df_fact_match_summary.head()"
   ]
  },
  {
   "cell_type": "markdown",
   "id": "85d5494f-6194-4511-8d84-97153b060c95",
   "metadata": {},
   "source": [
    "#### Primary Insights"
   ]
  },
  {
   "cell_type": "markdown",
   "id": "894b3e36-646a-41a9-9ef6-5ba659ba95a0",
   "metadata": {},
   "source": [
    "##### 1. Top 10 batsmen based on past 3 years **total runs scored**."
   ]
  },
  {
   "cell_type": "code",
   "execution_count": 41,
   "id": "74498d08-9e9b-44bb-970f-f2eee2e82974",
   "metadata": {},
   "outputs": [
    {
     "name": "stdout",
     "output_type": "stream",
     "text": [
      "+------------------+--------+\n",
      "| batsmanName      |   runs |\n",
      "+==================+========+\n",
      "| Shubman Gill     |   1851 |\n",
      "+------------------+--------+\n",
      "| Fafdu Plessis    |   1831 |\n",
      "+------------------+--------+\n",
      "| Ruturaj Gaikwad  |   1593 |\n",
      "+------------------+--------+\n",
      "| KLRahul          |   1516 |\n",
      "+------------------+--------+\n",
      "| Jos Buttler      |   1509 |\n",
      "+------------------+--------+\n",
      "| Shikhar Dhawan   |   1392 |\n",
      "+------------------+--------+\n",
      "| Virat Kohli      |   1385 |\n",
      "+------------------+--------+\n",
      "| Sanju Samson     |   1304 |\n",
      "+------------------+--------+\n",
      "| Suryakumar Yadav |   1225 |\n",
      "+------------------+--------+\n",
      "| Glenn Maxwell    |   1214 |\n",
      "+------------------+--------+\n"
     ]
    }
   ],
   "source": [
    "df_summary = df_fact_batting_summary.groupby('batsmanName').agg({'runs': 'sum'})\n",
    "\n",
    "top_10 = df_summary.nlargest(10, 'runs')\n",
    "print(format_dataframes(top_10))"
   ]
  },
  {
   "cell_type": "markdown",
   "id": "7472c46e-f7d1-4c75-87ba-c568a6b8f402",
   "metadata": {},
   "source": [
    "##### 2. Top 10 batsmen based on past 3 years **batting average**. Minimum 60 balls faced in each season."
   ]
  },
  {
   "cell_type": "markdown",
   "id": "80099062-5433-46d1-9b0a-d5db12b0749a",
   "metadata": {},
   "source": [
    "- Total Runs = SUM(fact_batting_summary[runs])\n",
    "- Total Innings Dismissed = SUM(fact_batting_summary[out])\n",
    "- Batting Avg = Total Runs/Total Innings Dismissed"
   ]
  },
  {
   "cell_type": "code",
   "execution_count": 42,
   "id": "e43fb08a-19c7-432b-af2a-0dc6da306da3",
   "metadata": {},
   "outputs": [
    {
     "name": "stdout",
     "output_type": "stream",
     "text": [
      "+------------------+---------------+\n",
      "| batsmanName      |   batting_avg |\n",
      "+==================+===============+\n",
      "| KLRahul          |         50.53 |\n",
      "+------------------+---------------+\n",
      "| Fafdu Plessis    |         43.6  |\n",
      "+------------------+---------------+\n",
      "| David Miller     |         43.2  |\n",
      "+------------------+---------------+\n",
      "| Jos Buttler      |         41.92 |\n",
      "+------------------+---------------+\n",
      "| Shimron Hetmyer  |         40.67 |\n",
      "+------------------+---------------+\n",
      "| Shubman Gill     |         40.24 |\n",
      "+------------------+---------------+\n",
      "| Shikhar Dhawan   |         39.77 |\n",
      "+------------------+---------------+\n",
      "| Ruturaj Gaikwad  |         37.93 |\n",
      "+------------------+---------------+\n",
      "| David Warner     |         37.9  |\n",
      "+------------------+---------------+\n",
      "| Suryakumar Yadav |         35    |\n",
      "+------------------+---------------+\n"
     ]
    }
   ],
   "source": [
    "df_batting_avg = all_seasons.copy()\n",
    "\n",
    "df_batting_avg[\"batting_avg\"] = (np.where(df_batting_avg['out']!=0, df_batting_avg['runs']/df_batting_avg['out'], 0)).round(2)\n",
    "top_10 = df_batting_avg.nlargest(10, 'batting_avg')[[\"batting_avg\"]]\n",
    "print(format_dataframes(top_10))"
   ]
  },
  {
   "cell_type": "markdown",
   "id": "6b31a06b-a983-4d06-a337-18bd97ccf4d7",
   "metadata": {},
   "source": [
    "##### 3. Top 10 batsmen based on past 3 years **strike rate**. Minimum 60 balls faced in each season."
   ]
  },
  {
   "cell_type": "markdown",
   "id": "1e09164d-f3d5-4548-aff6-5ddd90b23545",
   "metadata": {},
   "source": [
    "Strike Rate = (Total Runs/Total Balls Faced)*100"
   ]
  },
  {
   "cell_type": "code",
   "execution_count": 43,
   "id": "ffa8c8ba-c720-4822-bb62-76aab8b0846c",
   "metadata": {},
   "outputs": [
    {
     "name": "stdout",
     "output_type": "stream",
     "text": [
      "+------------------+---------------+\n",
      "| batsmanName      |   strike_rate |\n",
      "+==================+===============+\n",
      "| Glenn Maxwell    |        161.44 |\n",
      "+------------------+---------------+\n",
      "| Suryakumar Yadav |        160.55 |\n",
      "+------------------+---------------+\n",
      "| Andre Russell    |        159.19 |\n",
      "+------------------+---------------+\n",
      "| Shimron Hetmyer  |        157.27 |\n",
      "+------------------+---------------+\n",
      "| Nicholas Pooran  |        157.11 |\n",
      "+------------------+---------------+\n",
      "| Prithvi Shaw     |        153.2  |\n",
      "+------------------+---------------+\n",
      "| Dinesh Karthik   |        152.64 |\n",
      "+------------------+---------------+\n",
      "| Yashasvi Jaiswal |        152.15 |\n",
      "+------------------+---------------+\n",
      "| Jos Buttler      |        146.93 |\n",
      "+------------------+---------------+\n",
      "| Shivam Dube      |        145.95 |\n",
      "+------------------+---------------+\n"
     ]
    }
   ],
   "source": [
    "df_batsman_SR = all_seasons.copy()\n",
    "\n",
    "df_batsman_SR[\"strike_rate\"] = ((df_batsman_SR['runs']/df_batsman_SR['balls'])*100).round(2)\n",
    "top_10 = df_batsman_SR.nlargest(10, 'strike_rate')[[\"strike_rate\"]]\n",
    "print(format_dataframes(top_10))"
   ]
  },
  {
   "cell_type": "markdown",
   "id": "66bb5e10-789b-4304-a92c-bc88508d9f67",
   "metadata": {},
   "source": [
    "##### 4. Top 10 bowlers based on past 3 years total **wickets taken**."
   ]
  },
  {
   "cell_type": "markdown",
   "id": "873c759c-6d7e-4012-b084-6911a20adf1c",
   "metadata": {},
   "source": [
    "Total Wickets = SUM(fact_bowling_summary[wickets])"
   ]
  },
  {
   "cell_type": "code",
   "execution_count": 44,
   "id": "3ffb88cc-9fd4-4e13-a54e-7b2736a40f27",
   "metadata": {},
   "outputs": [
    {
     "name": "stdout",
     "output_type": "stream",
     "text": [
      "+--------------------+-----------+\n",
      "| bowlerName         |   wickets |\n",
      "+====================+===========+\n",
      "| Mohammed Shami     |        67 |\n",
      "+--------------------+-----------+\n",
      "| Yuzvendra Chahal   |        66 |\n",
      "+--------------------+-----------+\n",
      "| Harshal Patel      |        65 |\n",
      "+--------------------+-----------+\n",
      "| Rashid Khan        |        63 |\n",
      "+--------------------+-----------+\n",
      "| Avesh Khan         |        47 |\n",
      "+--------------------+-----------+\n",
      "| Arshdeep Singh     |        45 |\n",
      "+--------------------+-----------+\n",
      "| Kagiso Rabada      |        45 |\n",
      "+--------------------+-----------+\n",
      "| Varun Chakravarthy |        44 |\n",
      "+--------------------+-----------+\n",
      "| Shardul Thakur     |        43 |\n",
      "+--------------------+-----------+\n",
      "| Trent Boult        |        42 |\n",
      "+--------------------+-----------+\n"
     ]
    }
   ],
   "source": [
    "df_wickets = df_fact_bowling_summary.groupby(['bowlerName']).agg({'wickets': 'sum'})\n",
    "top_10 = df_wickets.nlargest(10, 'wickets')\n",
    "print(format_dataframes(top_10))"
   ]
  },
  {
   "cell_type": "markdown",
   "id": "099d1768-f587-4050-b494-f8fea36ed173",
   "metadata": {},
   "source": [
    "##### 5. Top 10 bowlers based on past 3 years **bowling average**. Minimum 60 balls bowled in each season."
   ]
  },
  {
   "cell_type": "markdown",
   "id": "b209b5e4-eba3-4a1e-bd38-9489f1ed3fb1",
   "metadata": {},
   "source": [
    "- Runs Conceded = SUM(fact_bowling_summary[wickets])\n",
    "- Bowling Average = Runs Conceded/Wickets"
   ]
  },
  {
   "cell_type": "code",
   "execution_count": 45,
   "id": "b893b5fa-1bfd-41d0-9944-2ed6d6916823",
   "metadata": {},
   "outputs": [
    {
     "name": "stdout",
     "output_type": "stream",
     "text": [
      "+------------------+---------------+\n",
      "| bowlerName       |   bowling_avg |\n",
      "+==================+===============+\n",
      "| Andre Russell    |         18.23 |\n",
      "+------------------+---------------+\n",
      "| Yuzvendra Chahal |         20.2  |\n",
      "+------------------+---------------+\n",
      "| Harshal Patel    |         20.35 |\n",
      "+------------------+---------------+\n",
      "| Rashid Khan      |         20.9  |\n",
      "+------------------+---------------+\n",
      "| Mohammed Shami   |         20.97 |\n",
      "+------------------+---------------+\n",
      "| Avesh Khan       |         23.72 |\n",
      "+------------------+---------------+\n",
      "| Kagiso Rabada    |         23.76 |\n",
      "+------------------+---------------+\n",
      "| Moeen Ali        |         23.86 |\n",
      "+------------------+---------------+\n",
      "| Anrich Nortje    |         24.77 |\n",
      "+------------------+---------------+\n",
      "| Umran Malik      |         26.1  |\n",
      "+------------------+---------------+\n"
     ]
    }
   ],
   "source": [
    "df_bowling_average = bowler_all_seasons.copy()\n",
    "\n",
    "df_bowling_average[\"bowling_avg\"] = (np.where(df_bowling_average['wickets']!=0, df_bowling_average['runs']/df_bowling_average['wickets'], 0)).round(2)\n",
    "top_10 = df_bowling_average.nsmallest(10, 'bowling_avg')[[\"bowling_avg\"]]\n",
    "print(format_dataframes(top_10))"
   ]
  },
  {
   "cell_type": "markdown",
   "id": "ff743f40-b03c-4b4f-8e67-e59572262f47",
   "metadata": {},
   "source": [
    "##### 6. Top 10 bowlers based on past 3 years **economy rate**. Minimum 60 balls bowled in each season."
   ]
  },
  {
   "cell_type": "markdown",
   "id": "037cdd2d-8e73-4843-a818-7706c6239e7c",
   "metadata": {},
   "source": [
    "- Balls Bowled = SUM(fact_bowling_summary[balls])\n",
    "- Runs Conceded = SUM(fact_bowling_summary[runs])\n",
    "- Economy = Runs Conceded/(balls Bowled/6)"
   ]
  },
  {
   "cell_type": "code",
   "execution_count": 46,
   "id": "902f1765-2606-49d3-9ab4-09b0771f85e2",
   "metadata": {},
   "outputs": [
    {
     "name": "stdout",
     "output_type": "stream",
     "text": [
      "+---------------------+-----------+\n",
      "| bowlerName          |   economy |\n",
      "+=====================+===========+\n",
      "| Sunil Narine        |      6.6  |\n",
      "+---------------------+-----------+\n",
      "| Moeen Ali           |      7.04 |\n",
      "+---------------------+-----------+\n",
      "| Axar Patel          |      7.11 |\n",
      "+---------------------+-----------+\n",
      "| Rashid Khan         |      7.2  |\n",
      "+---------------------+-----------+\n",
      "| Krunal Pandya       |      7.45 |\n",
      "+---------------------+-----------+\n",
      "| Ravindra Jadeja     |      7.46 |\n",
      "+---------------------+-----------+\n",
      "| Ravichandran Ashwin |      7.5  |\n",
      "+---------------------+-----------+\n",
      "| Varun Chakravarthy  |      7.57 |\n",
      "+---------------------+-----------+\n",
      "| Harpreet Brar       |      7.6  |\n",
      "+---------------------+-----------+\n",
      "| Rahul Chahar        |      7.63 |\n",
      "+---------------------+-----------+\n"
     ]
    }
   ],
   "source": [
    "df_economy = bowler_all_seasons.copy()\n",
    "\n",
    "df_economy[\"economy\"] = (df_economy['runs']/(df_economy['balls']/6)).round(2)\n",
    "top_10 = df_economy.nsmallest(10, 'economy')[[\"economy\"]]\n",
    "print(format_dataframes(top_10))"
   ]
  },
  {
   "cell_type": "markdown",
   "id": "add05020-75d7-49c7-8d84-28308ec9c384",
   "metadata": {},
   "source": [
    "##### 7. Top 5 batsmen based on past 3 years **boundary percentage**. Minimum 60 balls faced in each season."
   ]
  },
  {
   "cell_type": "markdown",
   "id": "3bf69d1a-4a4c-42a7-953d-5cc55964d593",
   "metadata": {},
   "source": [
    "Boundary % =  SUM(fact_batting_summary[Boundary runs])/SUM(fact_batting_summary[Total Runs])"
   ]
  },
  {
   "cell_type": "code",
   "execution_count": 47,
   "id": "09d3b9be-f9a3-42cd-82c0-ed4596682a3e",
   "metadata": {},
   "outputs": [
    {
     "name": "stdout",
     "output_type": "stream",
     "text": [
      "+------------------+-------------+\n",
      "| batsmanName      |   boundary% |\n",
      "+==================+=============+\n",
      "| Andre Russell    |       75.7  |\n",
      "+------------------+-------------+\n",
      "| Yashasvi Jaiswal |       74.56 |\n",
      "+------------------+-------------+\n",
      "| Prithvi Shaw     |       70.67 |\n",
      "+------------------+-------------+\n",
      "| Jos Buttler      |       68.92 |\n",
      "+------------------+-------------+\n",
      "| Glenn Maxwell    |       68.7  |\n",
      "+------------------+-------------+\n"
     ]
    }
   ],
   "source": [
    "df_boundary_perc = all_seasons.copy()\n",
    "df_boundary_perc[\"boundary%\"] = ((df_boundary_perc[\"boundary_runs\"]/df_boundary_perc[\"runs\"])*100).round(2)\n",
    "top_5 = df_boundary_perc.nlargest(5, 'boundary%')[[\"boundary%\"]]\n",
    "print(format_dataframes(top_5))"
   ]
  },
  {
   "cell_type": "markdown",
   "id": "83087736-9c80-4578-b0b8-acf52377cfc2",
   "metadata": {},
   "source": [
    "##### 8. Top 5 bowlers based on past 3 years **dot ball percentage**. Minimum 60 balls bowled in each season."
   ]
  },
  {
   "cell_type": "markdown",
   "id": "fb81455e-25ad-4a25-b440-5c782f7d17d4",
   "metadata": {},
   "source": [
    "Dot ball % = SUM(fact_bowling_summary[zeros])/SUM(fact_bowling_summary[balls])"
   ]
  },
  {
   "cell_type": "code",
   "execution_count": 48,
   "id": "72a3c7ec-4e88-433a-bdd6-99497368c41f",
   "metadata": {},
   "outputs": [
    {
     "name": "stdout",
     "output_type": "stream",
     "text": [
      "+----------------+------------+\n",
      "| bowlerName     |   dotball% |\n",
      "+================+============+\n",
      "| Mohammed Siraj |      47.71 |\n",
      "+----------------+------------+\n",
      "| Mohammed Shami |      47.57 |\n",
      "+----------------+------------+\n",
      "| Trent Boult    |      46.37 |\n",
      "+----------------+------------+\n",
      "| Umran Malik    |      44.15 |\n",
      "+----------------+------------+\n",
      "| Khaleel Ahmed  |      43.61 |\n",
      "+----------------+------------+\n"
     ]
    }
   ],
   "source": [
    "df_dotball_perc = bowler_all_seasons.copy()\n",
    "df_dotball_perc[\"dotball%\"] = ((df_dotball_perc[\"0s\"]/df_dotball_perc[\"balls\"])*100).round(2)\n",
    "top_5 = df_dotball_perc.nlargest(5, 'dotball%')[[\"dotball%\"]]\n",
    "print(format_dataframes(top_5))"
   ]
  },
  {
   "cell_type": "markdown",
   "id": "78ef603c-31b1-403a-b248-dc60d7d9d615",
   "metadata": {},
   "source": [
    "##### 9. Top 4 teams based on past 3 years **winning %**."
   ]
  },
  {
   "cell_type": "markdown",
   "id": "a39fbb65-74b9-4eb6-87e8-0cf5c4804ef8",
   "metadata": {},
   "source": [
    "- Total Winnings = Count match_id from 'df_fact_match_summary' if (teams == winners)\n",
    "- Total Matches = Count match_id from 'df_fact_match_summary'\n",
    "- Winning Percentage = (Total Winnings/Total Matches)*100"
   ]
  },
  {
   "cell_type": "code",
   "execution_count": 49,
   "id": "2f986823-9fe0-45cc-9760-f30a2fe588e9",
   "metadata": {},
   "outputs": [
    {
     "name": "stdout",
     "output_type": "stream",
     "text": [
      "+--------------+------------+\n",
      "| teams        |   winning% |\n",
      "+==============+============+\n",
      "| Titans       |      69.7  |\n",
      "+--------------+------------+\n",
      "| Super Giants |      58.62 |\n",
      "+--------------+------------+\n",
      "| RCB          |      55.56 |\n",
      "+--------------+------------+\n",
      "| Super Kings  |      55.56 |\n",
      "+--------------+------------+\n"
     ]
    }
   ],
   "source": [
    "# Total matches played by each team\n",
    "df_total_matches = df_fact_match_summary.groupby('teams').agg({'match_id':'count'})\n",
    "df_total_matches = df_total_matches.rename(columns={'match_id':'total_matches'})\n",
    "\n",
    "# Total winnings of each team\n",
    "df_total_winnings = df_fact_match_summary[df_fact_match_summary[\"teams\"]==df_fact_match_summary[\"winner\"]].groupby('teams').agg({'match_id':'count'})\n",
    "df_total_winnings = df_total_winnings.rename(columns={'match_id':'total_winnings'})\n",
    "\n",
    "# Merge df_total_matches and df_total_winnings on the column 'teams'. Find Winning%\n",
    "df_winning_perc = pd.merge(df_total_winnings, df_total_matches, on='teams', how='inner')\n",
    "df_winning_perc[\"winning%\"] = ((df_winning_perc[\"total_winnings\"]/df_winning_perc[\"total_matches\"])*100).round(2)\n",
    "top_4 = df_winning_perc.nlargest(4, 'winning%')[[\"winning%\"]]\n",
    "print(format_dataframes(top_4))"
   ]
  },
  {
   "cell_type": "markdown",
   "id": "3a726d19-cafb-48bf-8c0a-7f6a03304771",
   "metadata": {},
   "source": [
    "##### 10. Top 2 teams with the **highest number of wins achieved by chasing targets** over the past 3 years.."
   ]
  },
  {
   "cell_type": "code",
   "execution_count": 50,
   "id": "2d522bc2-665b-4ac7-b004-91772ea7d89b",
   "metadata": {},
   "outputs": [
    {
     "name": "stdout",
     "output_type": "stream",
     "text": [
      "+----------+------------------------------------+\n",
      "| teams    |   wins_achieved_by_chasing_targets |\n",
      "+==========+====================================+\n",
      "| Capitals |                                 14 |\n",
      "+----------+------------------------------------+\n",
      "| KKR      |                                 14 |\n",
      "+----------+------------------------------------+\n"
     ]
    }
   ],
   "source": [
    "df_wins_achieved = df_fact_match_summary[(df_fact_match_summary[\"team2\"]==df_fact_match_summary[\"winner\"]) & \n",
    "                    (df_fact_match_summary[\"teams\"]==df_fact_match_summary[\"winner\"])].groupby('teams').agg({'match_id':'count'})\n",
    "df_wins_achieved = df_wins_achieved.rename(columns={'match_id':'wins_achieved_by_chasing_targets'})\n",
    "\n",
    "top_2 = df_wins_achieved.nlargest(2, 'wins_achieved_by_chasing_targets')[[\"wins_achieved_by_chasing_targets\"]]\n",
    "\n",
    "print(format_dataframes(top_2))"
   ]
  },
  {
   "cell_type": "code",
   "execution_count": null,
   "id": "093d611e-9848-4502-8ca6-e3a45c27582d",
   "metadata": {},
   "outputs": [],
   "source": []
  }
 ],
 "metadata": {
  "kernelspec": {
   "display_name": "Python 3 (ipykernel)",
   "language": "python",
   "name": "python3"
  },
  "language_info": {
   "codemirror_mode": {
    "name": "ipython",
    "version": 3
   },
   "file_extension": ".py",
   "mimetype": "text/x-python",
   "name": "python",
   "nbconvert_exporter": "python",
   "pygments_lexer": "ipython3",
   "version": "3.8.10"
  }
 },
 "nbformat": 4,
 "nbformat_minor": 5
}
